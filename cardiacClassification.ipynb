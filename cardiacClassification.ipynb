{
 "cells": [
  {
   "cell_type": "code",
   "execution_count": 17,
   "metadata": {},
   "outputs": [],
   "source": [
    "using DataFrames, CSV, Statistics, MLJ, Random"
   ]
  },
  {
   "cell_type": "code",
   "execution_count": 2,
   "metadata": {},
   "outputs": [],
   "source": [
    "df = DataFrame(CSV.File(\"processed.cleveland.csv\"))\n",
    "rename!(df, [:age, :sex, :cp, :trestbps, :chol, :fbs, :restecg, :thalach, :exang, :oldpeak, :slope, :ca, :thal, :target]);"
   ]
  },
  {
   "cell_type": "code",
   "execution_count": 3,
   "metadata": {},
   "outputs": [],
   "source": [
    "#limpando os dados\n",
    "\n",
    "#permitindo missing data no df\n",
    "allowmissing!(df)\n",
    "\n",
    "#substituindo todos os dados faltosos \"?\" por missing values\n",
    "df .= ifelse.(df .==\"?\", missing, df)\n",
    "\n",
    "#removendo as linhas com missing values\n",
    "dropmissing!(df)\n",
    "\n",
    "#transformando as duas colunas em float64\n",
    "df.ca = parse.(Float64, df.ca)\n",
    "df.thal = parse.(Float64, df.thal);\n"
   ]
  },
  {
   "cell_type": "code",
   "execution_count": 19,
   "metadata": {},
   "outputs": [],
   "source": [
    "y, X = unpack(df, ==(:target), colname -> true);\n",
    "\n",
    "train, test = partition(eachindex(y), 0.7, stratify=y);"
   ]
  },
  {
   "cell_type": "code",
   "execution_count": 20,
   "metadata": {
    "scrolled": true
   },
   "outputs": [
    {
     "data": {
      "text/plain": [
       "3-element Array{NamedTuple{(:name, :package_name, :is_supervised, :docstring, :hyperparameter_ranges, :hyperparameter_types, :hyperparameters, :implemented_methods, :is_pure_julia, :is_wrapper, :load_path, :package_license, :package_url, :package_uuid, :prediction_type, :supports_online, :supports_weights, :input_scitype, :target_scitype, :output_scitype),T} where T<:Tuple,1}:\n",
       " (name = EvoTreeCount, package_name = EvoTrees, ... )\n",
       " (name = LinearCountRegressor, package_name = GLM, ... )\n",
       " (name = XGBoostCount, package_name = XGBoost, ... )"
      ]
     },
     "execution_count": 20,
     "metadata": {},
     "output_type": "execute_result"
    }
   ],
   "source": [
    "models(matching(X, y))"
   ]
  },
  {
   "cell_type": "code",
   "execution_count": 10,
   "metadata": {},
   "outputs": [
    {
     "name": "stderr",
     "output_type": "stream",
     "text": [
      "┌ Warning: The scitype of `y`, in `machine(model, X, y, ...)` is incompatible with `model`:\n",
      "│ scitype(y) = AbstractArray{Count,1}\n",
      "│ target_scitype(model) = AbstractArray{#s31,1} where #s31<:Finite.\n",
      "└ @ MLJBase /home/brainiac/.julia/packages/MLJBase/2yoMe/src/machines.jl:81\n",
      "┌ Info: Training \u001b[34mMachine{DecisionTreeClassifier} @170\u001b[39m.\n",
      "└ @ MLJBase /home/brainiac/.julia/packages/MLJBase/2yoMe/src/machines.jl:317\n"
     ]
    },
    {
     "ename": "DomainError",
     "evalue": "DomainError with 2:\nCan only convert categorical elements to integers. ",
     "output_type": "error",
     "traceback": [
      "DomainError with 2:\nCan only convert categorical elements to integers. ",
      "",
      "Stacktrace:",
      " [1] int(::MLJModelInterface.FullInterface, ::Int64) at /home/brainiac/.julia/packages/MLJBase/2yoMe/src/interface/data_utils.jl:14",
      " [2] int(::Int64; type::Nothing) at /home/brainiac/.julia/packages/MLJModelInterface/zGbxD/src/data_utils.jl:73",
      " [3] int(::Int64) at /home/brainiac/.julia/packages/MLJModelInterface/zGbxD/src/data_utils.jl:73",
      " [4] _broadcast_getindex_evalf at ./broadcast.jl:631 [inlined]",
      " [5] _broadcast_getindex at ./broadcast.jl:604 [inlined]",
      " [6] getindex at ./broadcast.jl:564 [inlined]",
      " [7] copy at ./broadcast.jl:854 [inlined]",
      " [8] materialize at ./broadcast.jl:820 [inlined]",
      " [9] int at /home/brainiac/.julia/packages/MLJBase/2yoMe/src/interface/data_utils.jl:18 [inlined]",
      " [10] int(::Array{Int64,1}; type::Nothing) at /home/brainiac/.julia/packages/MLJModelInterface/zGbxD/src/data_utils.jl:73",
      " [11] int(::Array{Int64,1}) at /home/brainiac/.julia/packages/MLJModelInterface/zGbxD/src/data_utils.jl:73",
      " [12] fit(::MLJModels.DecisionTree_.DecisionTreeClassifier, ::Int64, ::DataFrame, ::Array{Int64,1}) at /home/brainiac/.julia/packages/MLJModels/BQAzu/src/DecisionTree.jl:94",
      " [13] fit_only!(::Machine{MLJModels.DecisionTree_.DecisionTreeClassifier}; rows::Array{Int64,1}, verbosity::Int64, force::Bool) at /home/brainiac/.julia/packages/MLJBase/2yoMe/src/machines.jl:416",
      " [14] #fit!#80 at /home/brainiac/.julia/packages/MLJBase/2yoMe/src/machines.jl:461 [inlined]",
      " [15] top-level scope at In[10]:6"
     ]
    }
   ],
   "source": [
    "using MLJ\n",
    "\n",
    "DTCModel = @load \n",
    "\n",
    "tree = machine(DTCModel, X, y)\n",
    "\n",
    "fit!(tree, rows=train);"
   ]
  },
  {
   "cell_type": "code",
   "execution_count": null,
   "metadata": {},
   "outputs": [],
   "source": []
  },
  {
   "cell_type": "code",
   "execution_count": null,
   "metadata": {},
   "outputs": [],
   "source": []
  }
 ],
 "metadata": {
  "kernelspec": {
   "display_name": "Julia 1.4.2",
   "language": "julia",
   "name": "julia-1.4"
  },
  "language_info": {
   "file_extension": ".jl",
   "mimetype": "application/julia",
   "name": "julia",
   "version": "1.4.2"
  }
 },
 "nbformat": 4,
 "nbformat_minor": 4
}
