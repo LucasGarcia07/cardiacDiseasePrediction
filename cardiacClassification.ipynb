{
 "cells": [
  {
   "cell_type": "code",
   "execution_count": 1,
   "metadata": {},
   "outputs": [],
   "source": [
    "using DataFrames, CSV, Statistics, MLJ, Random, RDatasets"
   ]
  },
  {
   "cell_type": "code",
   "execution_count": 2,
   "metadata": {},
   "outputs": [],
   "source": [
    "df = DataFrame(CSV.File(\"processed.cleveland.csv\"))\n",
    "rename!(df, [:age, :sex, :cp, :trestbps, :chol, :fbs, :restecg, :thalach, :exang, :oldpeak, :slope, :ca, :thal, :target]);"
   ]
  },
  {
   "cell_type": "markdown",
   "metadata": {},
   "source": [
    "## Limpando dados faltosos"
   ]
  },
  {
   "cell_type": "code",
   "execution_count": 3,
   "metadata": {},
   "outputs": [],
   "source": [
    "#limpando os dados\n",
    "\n",
    "#permitindo missing data no df\n",
    "allowmissing!(df)\n",
    "\n",
    "#substituindo todos os dados faltosos \"?\" por missing values\n",
    "df .= ifelse.(df .==\"?\", missing, df)\n",
    "\n",
    "#removendo as linhas com missing values\n",
    "dropmissing!(df)\n",
    "\n",
    "#transformando as duas colunas em float64\n",
    "df.ca = parse.(Float64, df.ca)\n",
    "df.thal = parse.(Float64, df.thal);\n"
   ]
  },
  {
   "cell_type": "markdown",
   "metadata": {},
   "source": [
    "## Particionando os dados de forma stratificada e passando o target para binário"
   ]
  },
  {
   "cell_type": "code",
   "execution_count": 4,
   "metadata": {},
   "outputs": [],
   "source": [
    "y, X = unpack(df, ==(:target), colname -> true);\n",
    "\n",
    "train, test = partition(eachindex(y), 0.8, stratify=y);"
   ]
  },
  {
   "cell_type": "markdown",
   "metadata": {},
   "source": [
    "## Testando a partição"
   ]
  },
  {
   "cell_type": "code",
   "execution_count": 14,
   "metadata": {},
   "outputs": [
    {
     "name": "stdout",
     "output_type": "stream",
     "text": [
      "53.333333333333336%\n",
      "18.333333333333332%\n",
      "11.666666666666666%\n",
      "11.666666666666666%\n",
      "5.0%\n"
     ]
    }
   ],
   "source": [
    "distTest0 = (size(filter(x -> x == 0, y[test]))[1] / size(y[test])[1]) * 100\n",
    "distTest1 = (size(filter(x -> x == 1, y[test]))[1] / size(y[test])[1]) * 100\n",
    "distTest2 = (size(filter(x -> x == 2, y[test]))[1] / size(y[test])[1]) * 100\n",
    "distTest3 = (size(filter(x -> x == 3, y[test]))[1] / size(y[test])[1]) * 100\n",
    "distTest4 = (size(filter(x -> x == 4, y[test]))[1] / size(y[test])[1]) * 100\n",
    "\n",
    "println(distTest0, \"%\")\n",
    "println(distTest1, \"%\")\n",
    "println(distTest2, \"%\")\n",
    "println(distTest3, \"%\")\n",
    "println(distTest4, \"%\")"
   ]
  },
  {
   "cell_type": "markdown",
   "metadata": {},
   "source": [
    "## Carregando o modelo"
   ]
  },
  {
   "cell_type": "code",
   "execution_count": 5,
   "metadata": {},
   "outputs": [
    {
     "name": "stdout",
     "output_type": "stream",
     "text": [
      "import MLJModels ✔\n",
      "import DecisionTree "
     ]
    },
    {
     "name": "stderr",
     "output_type": "stream",
     "text": [
      "┌ Info: Loading into module \"Main\": \n",
      "└ @ MLJModels /home/brainiac/.julia/packages/MLJModels/BQAzu/src/loading.jl:70\n"
     ]
    },
    {
     "name": "stdout",
     "output_type": "stream",
     "text": [
      "✔\n",
      "import MLJModels.DecisionTree_ ✔\n"
     ]
    },
    {
     "data": {
      "text/plain": [
       "DecisionTreeClassifier(\n",
       "    max_depth = -1,\n",
       "    min_samples_leaf = 1,\n",
       "    min_samples_split = 2,\n",
       "    min_purity_increase = 0.0,\n",
       "    n_subfeatures = 0,\n",
       "    post_prune = false,\n",
       "    merge_purity_threshold = 1.0,\n",
       "    pdf_smoothing = 0.0,\n",
       "    display_depth = 5)\u001b[34m @341\u001b[39m"
      ]
     },
     "execution_count": 5,
     "metadata": {},
     "output_type": "execute_result"
    }
   ],
   "source": [
    "tree_model = @load DecisionTreeClassifier verbosity=1"
   ]
  },
  {
   "cell_type": "code",
   "execution_count": 6,
   "metadata": {},
   "outputs": [
    {
     "data": {
      "text/plain": [
       "\u001b[34mMachine{DecisionTreeClassifier} @626\u001b[39m trained 0 times.\n",
       "  args: \n",
       "    1:\t\u001b[34mSource @423\u001b[39m ⏎ `Table{AbstractArray{Continuous,1}}`\n",
       "    2:\t\u001b[34mSource @381\u001b[39m ⏎ `AbstractArray{Multiclass{5},1}`\n"
      ]
     },
     "execution_count": 6,
     "metadata": {},
     "output_type": "execute_result"
    }
   ],
   "source": [
    "\n",
    "tree = machine(tree_model, X, categorical(y))"
   ]
  },
  {
   "cell_type": "markdown",
   "metadata": {},
   "source": [
    "## Treinando o modelo"
   ]
  },
  {
   "cell_type": "code",
   "execution_count": 7,
   "metadata": {},
   "outputs": [
    {
     "name": "stderr",
     "output_type": "stream",
     "text": [
      "┌ Info: Training \u001b[34mMachine{DecisionTreeClassifier} @626\u001b[39m.\n",
      "└ @ MLJBase /home/brainiac/.julia/packages/MLJBase/2yoMe/src/machines.jl:317\n"
     ]
    }
   ],
   "source": [
    " # 70:30 split\n",
    "fit!(tree, rows=train);\n",
    "yhat = predict(tree, X[test,:]);\n"
   ]
  },
  {
   "cell_type": "markdown",
   "metadata": {},
   "source": [
    "## Avaliando"
   ]
  },
  {
   "cell_type": "code",
   "execution_count": 8,
   "metadata": {},
   "outputs": [],
   "source": [
    "resultado = mode.(yhat);"
   ]
  },
  {
   "cell_type": "code",
   "execution_count": 9,
   "metadata": {
    "scrolled": true
   },
   "outputs": [
    {
     "data": {
      "text/plain": [
       "0.5"
      ]
     },
     "execution_count": 9,
     "metadata": {},
     "output_type": "execute_result"
    }
   ],
   "source": [
    "accuracy(resultado, categorical(y[test]))"
   ]
  }
 ],
 "metadata": {
  "kernelspec": {
   "display_name": "Julia 1.4.2",
   "language": "julia",
   "name": "julia-1.4"
  },
  "language_info": {
   "file_extension": ".jl",
   "mimetype": "application/julia",
   "name": "julia",
   "version": "1.4.2"
  }
 },
 "nbformat": 4,
 "nbformat_minor": 4
}
